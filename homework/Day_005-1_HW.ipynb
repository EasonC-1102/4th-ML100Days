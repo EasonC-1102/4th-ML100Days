{
 "cells": [
  {
   "cell_type": "code",
   "execution_count": 13,
   "metadata": {},
   "outputs": [],
   "source": [
    "import pandas as pd"
   ]
  },
  {
   "cell_type": "code",
   "execution_count": 15,
   "metadata": {},
   "outputs": [],
   "source": [
    "candidates = ['Eason','Zion','Sam','Soon']\n",
    "Length = ['1 week','1 week','1 week','1 week']\n",
    "counts = [1,2,7,4]\n",
    "\n",
    "list_labels = ['candidates','Length','counts']\n",
    "list_cols = [candidates, Length, counts]\n",
    "zipped = list(zip(list_labels, list_cols))"
   ]
  },
  {
   "cell_type": "code",
   "execution_count": 16,
   "metadata": {},
   "outputs": [
    {
     "name": "stdout",
     "output_type": "stream",
     "text": [
      "  candidates  Length  counts\n",
      "0      Eason  1 week       1\n",
      "1       Zion  1 week       2\n",
      "2        Sam  1 week       7\n",
      "3       Soon  1 week       4\n"
     ]
    }
   ],
   "source": [
    "jerk = pd.DataFrame(dict(zipped))\n",
    "print(jerk)"
   ]
  },
  {
   "cell_type": "code",
   "execution_count": 18,
   "metadata": {},
   "outputs": [
    {
     "data": {
      "text/plain": [
       "Length\n",
       "1 week    3.5\n",
       "Name: counts, dtype: float64"
      ]
     },
     "execution_count": 18,
     "metadata": {},
     "output_type": "execute_result"
    }
   ],
   "source": [
    "jerk.groupby(by=\"Length\")['counts'].mean()"
   ]
  },
  {
   "cell_type": "code",
   "execution_count": 39,
   "metadata": {},
   "outputs": [
    {
     "name": "stdout",
     "output_type": "stream",
     "text": [
      "[977383] [968973]\n"
     ]
    }
   ],
   "source": [
    "import pandas as pd\n",
    "import numpy as np\n",
    "pop1 = np.random.randint(1000000, size = 1)\n",
    "pop2 = np.random.randint(1000000, size = 1)\n",
    "print(pop1,pop2)"
   ]
  },
  {
   "cell_type": "code",
   "execution_count": 40,
   "metadata": {},
   "outputs": [],
   "source": [
    "data = {'weekday':['Sat','Sun'],\n",
    "        'City':['Taipei','Tainan'],\n",
    "        'population':['977383','968973']}"
   ]
  },
  {
   "cell_type": "code",
   "execution_count": 41,
   "metadata": {},
   "outputs": [
    {
     "name": "stdout",
     "output_type": "stream",
     "text": [
      "  weekday    City population\n",
      "0     Sat  Taipei     977383\n",
      "1     Sun  Tainan     968973\n"
     ]
    }
   ],
   "source": [
    "record = pd.DataFrame(data)\n",
    "print(record)"
   ]
  },
  {
   "cell_type": "code",
   "execution_count": null,
   "metadata": {},
   "outputs": [],
   "source": []
  }
 ],
 "metadata": {
  "kernelspec": {
   "display_name": "Python 3",
   "language": "python",
   "name": "python3"
  },
  "language_info": {
   "codemirror_mode": {
    "name": "ipython",
    "version": 3
   },
   "file_extension": ".py",
   "mimetype": "text/x-python",
   "name": "python",
   "nbconvert_exporter": "python",
   "pygments_lexer": "ipython3",
   "version": "3.7.3"
  }
 },
 "nbformat": 4,
 "nbformat_minor": 2
}
